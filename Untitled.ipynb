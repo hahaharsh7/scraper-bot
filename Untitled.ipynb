{
 "cells": [
  {
   "cell_type": "code",
   "execution_count": 1,
   "metadata": {},
   "outputs": [],
   "source": [
    "import pandas as pd \n",
    "import numpy as np\n",
    "from selenium import webdriver\n",
    "import time\n",
    "from selenium.webdriver.common.keys import Keys\n",
    "import random\n",
    "import requests \n",
    "import csv\n",
    "from bs4 import BeautifulSoup"
   ]
  },
  {
   "cell_type": "code",
   "execution_count": 2,
   "metadata": {},
   "outputs": [],
   "source": [
    "data = pd.read_csv('Amazon.csv',encoding= 'unicode_escape')"
   ]
  },
  {
   "cell_type": "code",
   "execution_count": 3,
   "metadata": {},
   "outputs": [
    {
     "data": {
      "text/html": [
       "<div>\n",
       "<style scoped>\n",
       "    .dataframe tbody tr th:only-of-type {\n",
       "        vertical-align: middle;\n",
       "    }\n",
       "\n",
       "    .dataframe tbody tr th {\n",
       "        vertical-align: top;\n",
       "    }\n",
       "\n",
       "    .dataframe thead th {\n",
       "        text-align: right;\n",
       "    }\n",
       "</style>\n",
       "<table border=\"1\" class=\"dataframe\">\n",
       "  <thead>\n",
       "    <tr style=\"text-align: right;\">\n",
       "      <th></th>\n",
       "      <th>Brand</th>\n",
       "      <th>Amazon</th>\n",
       "    </tr>\n",
       "  </thead>\n",
       "  <tbody>\n",
       "    <tr>\n",
       "      <th>0</th>\n",
       "      <td>Hovis Thick Sliced White Bread (1x800g)</td>\n",
       "      <td>B000N1XPEY</td>\n",
       "    </tr>\n",
       "    <tr>\n",
       "      <th>1</th>\n",
       "      <td>Tea Towels Terry Check (1x10)</td>\n",
       "      <td>B000NM75KI</td>\n",
       "    </tr>\n",
       "    <tr>\n",
       "      <th>2</th>\n",
       "      <td>ES Buttery Spread PMP 50p (24x250g)</td>\n",
       "      <td>B000QU95XW</td>\n",
       "    </tr>\n",
       "    <tr>\n",
       "      <th>3</th>\n",
       "      <td>Pepsi Max PET PMP £1.89 (6x2lt)</td>\n",
       "      <td>B000UE2YVE</td>\n",
       "    </tr>\n",
       "    <tr>\n",
       "      <th>4</th>\n",
       "      <td>CL Professional Extra Str Refuse Sacks (2x90)</td>\n",
       "      <td>B0012344GK</td>\n",
       "    </tr>\n",
       "  </tbody>\n",
       "</table>\n",
       "</div>"
      ],
      "text/plain": [
       "                                           Brand      Amazon\n",
       "0        Hovis Thick Sliced White Bread (1x800g)  B000N1XPEY\n",
       "1                  Tea Towels Terry Check (1x10)  B000NM75KI\n",
       "2            ES Buttery Spread PMP 50p (24x250g)  B000QU95XW\n",
       "3                Pepsi Max PET PMP £1.89 (6x2lt)  B000UE2YVE\n",
       "4  CL Professional Extra Str Refuse Sacks (2x90)  B0012344GK"
      ]
     },
     "execution_count": 3,
     "metadata": {},
     "output_type": "execute_result"
    }
   ],
   "source": [
    "data.head()"
   ]
  },
  {
   "cell_type": "code",
   "execution_count": 4,
   "metadata": {},
   "outputs": [],
   "source": [
    "am_id = data.take([1], axis=1)"
   ]
  },
  {
   "cell_type": "code",
   "execution_count": 5,
   "metadata": {},
   "outputs": [
    {
     "data": {
      "text/html": [
       "<div>\n",
       "<style scoped>\n",
       "    .dataframe tbody tr th:only-of-type {\n",
       "        vertical-align: middle;\n",
       "    }\n",
       "\n",
       "    .dataframe tbody tr th {\n",
       "        vertical-align: top;\n",
       "    }\n",
       "\n",
       "    .dataframe thead th {\n",
       "        text-align: right;\n",
       "    }\n",
       "</style>\n",
       "<table border=\"1\" class=\"dataframe\">\n",
       "  <thead>\n",
       "    <tr style=\"text-align: right;\">\n",
       "      <th></th>\n",
       "      <th>Amazon</th>\n",
       "    </tr>\n",
       "  </thead>\n",
       "  <tbody>\n",
       "    <tr>\n",
       "      <th>0</th>\n",
       "      <td>B000N1XPEY</td>\n",
       "    </tr>\n",
       "    <tr>\n",
       "      <th>1</th>\n",
       "      <td>B000NM75KI</td>\n",
       "    </tr>\n",
       "    <tr>\n",
       "      <th>2</th>\n",
       "      <td>B000QU95XW</td>\n",
       "    </tr>\n",
       "    <tr>\n",
       "      <th>3</th>\n",
       "      <td>B000UE2YVE</td>\n",
       "    </tr>\n",
       "    <tr>\n",
       "      <th>4</th>\n",
       "      <td>B0012344GK</td>\n",
       "    </tr>\n",
       "    <tr>\n",
       "      <th>...</th>\n",
       "      <td>...</td>\n",
       "    </tr>\n",
       "    <tr>\n",
       "      <th>515</th>\n",
       "      <td>B0875597YZ</td>\n",
       "    </tr>\n",
       "    <tr>\n",
       "      <th>516</th>\n",
       "      <td>B08755JHLR</td>\n",
       "    </tr>\n",
       "    <tr>\n",
       "      <th>517</th>\n",
       "      <td>B087DMXKYC</td>\n",
       "    </tr>\n",
       "    <tr>\n",
       "      <th>518</th>\n",
       "      <td>B087FPMC6J</td>\n",
       "    </tr>\n",
       "    <tr>\n",
       "      <th>519</th>\n",
       "      <td>B08B2BP7QN</td>\n",
       "    </tr>\n",
       "  </tbody>\n",
       "</table>\n",
       "<p>520 rows × 1 columns</p>\n",
       "</div>"
      ],
      "text/plain": [
       "         Amazon\n",
       "0    B000N1XPEY\n",
       "1    B000NM75KI\n",
       "2    B000QU95XW\n",
       "3    B000UE2YVE\n",
       "4    B0012344GK\n",
       "..          ...\n",
       "515  B0875597YZ\n",
       "516  B08755JHLR\n",
       "517  B087DMXKYC\n",
       "518  B087FPMC6J\n",
       "519  B08B2BP7QN\n",
       "\n",
       "[520 rows x 1 columns]"
      ]
     },
     "execution_count": 5,
     "metadata": {},
     "output_type": "execute_result"
    }
   ],
   "source": [
    "am_id.astype(str)"
   ]
  },
  {
   "cell_type": "code",
   "execution_count": 6,
   "metadata": {},
   "outputs": [
    {
     "data": {
      "text/plain": [
       "pandas.core.series.Series"
      ]
     },
     "execution_count": 6,
     "metadata": {},
     "output_type": "execute_result"
    }
   ],
   "source": [
    "type(am_id.iloc[4])"
   ]
  },
  {
   "cell_type": "code",
   "execution_count": 7,
   "metadata": {},
   "outputs": [],
   "source": [
    "final = am_id.Amazon.values"
   ]
  },
  {
   "cell_type": "code",
   "execution_count": 8,
   "metadata": {},
   "outputs": [
    {
     "data": {
      "text/plain": [
       "'B000N1XPEY'"
      ]
     },
     "execution_count": 8,
     "metadata": {},
     "output_type": "execute_result"
    }
   ],
   "source": [
    "final[0]"
   ]
  },
  {
   "cell_type": "code",
   "execution_count": 9,
   "metadata": {},
   "outputs": [
    {
     "name": "stdout",
     "output_type": "stream",
     "text": [
      "https://www.amazon.co.uk/s?k=B000NM75KI&ref=nb_sb_noss\n"
     ]
    }
   ],
   "source": [
    "key = ('https://www.amazon.co.uk/s?k='+final[1]+'&ref=nb_sb_noss')\n",
    "print(key)"
   ]
  },
  {
   "cell_type": "code",
   "execution_count": 28,
   "metadata": {},
   "outputs": [],
   "source": [
    "bot = webdriver.Chrome(\"/users/harsh/downloads/chromedriver\")"
   ]
  },
  {
   "cell_type": "code",
   "execution_count": 29,
   "metadata": {},
   "outputs": [],
   "source": [
    "aaa = []\n",
    "bsdk = []\n",
    "for i in range (5): \n",
    "    key = ('https://www.amazon.co.uk/s?k='+final[i]+'&ref=nb_sb_noss')\n",
    "    var = [final[i]]\n",
    "    bot.get(key)\n",
    "    time.sleep(2)\n",
    "    data = BeautifulSoup(bot.page_source)\n",
    "#     name_box = data.find('span', attrs={'class':'a-size-base-plus a-color-base a-text-normal'})\n",
    "#     bsdk.append(name_box)\n",
    "#     try:\n",
    "#         var.append(name_box)\n",
    "#     except:\n",
    "#         var.append(\"Empty Space\")\n",
    "    try:\n",
    "        bot.find_element_by_class_name('s-image').click()\n",
    "        time.sleep(2)\n",
    "        data = BeautifulSoup(bot.page_source)\n",
    "        name_box1 = data.find('span', attrs={'class':'a-size-medium a-color-price priceBlockBuyingPriceString'})\n",
    "        try:\n",
    "            var.append(name_box1)\n",
    "        except:\n",
    "            var.append(\"Empty Space\")\n",
    "        time.sleep(0.5)\n",
    "        data = BeautifulSoup(bot.page_source)\n",
    "        name_box2 = data.find('span', attrs={'class':'priceBlockStrikePriceString a-text-strike'})\n",
    "        try:\n",
    "            var.append(name_box2)\n",
    "        except:\n",
    "            var.append(\"Empty Space\")\n",
    "        name_box = data.find('span', attrs={'class':'a-size-large product-title-word-break'})\n",
    "        try:\n",
    "            var.append(name_box)\n",
    "        except:\n",
    "            var.append(\"Empty Space\")\n",
    "        \n",
    "    except:\n",
    "        pass\n",
    "    aaa.append(tuple(var))"
   ]
  },
  {
   "cell_type": "code",
   "execution_count": 21,
   "metadata": {},
   "outputs": [
    {
     "data": {
      "text/plain": [
       "[None, None, None, None, None]"
      ]
     },
     "execution_count": 21,
     "metadata": {},
     "output_type": "execute_result"
    }
   ],
   "source": [
    "bsdk"
   ]
  },
  {
   "cell_type": "code",
   "execution_count": null,
   "metadata": {},
   "outputs": [],
   "source": [
    "aaa1"
   ]
  },
  {
   "cell_type": "code",
   "execution_count": 30,
   "metadata": {},
   "outputs": [
    {
     "data": {
      "text/plain": [
       "[('B000N1XPEY',),\n",
       " ('B000NM75KI',\n",
       "  <span class=\"a-size-medium a-color-price priceBlockBuyingPriceString\" id=\"priceblock_ourprice\">£7.39</span>,\n",
       "  <span class=\"priceBlockStrikePriceString a-text-strike\"> £7.90</span>,\n",
       "  <span class=\"a-size-large product-title-word-break\" id=\"productTitle\">\n",
       "  \n",
       "  \n",
       "  \n",
       "  \n",
       "  \n",
       "  \n",
       "  \n",
       "  Robert Scott Tea Towels with a Coloured Check Design | Pack of 10 | Assorted Colours | Machine Washable | Absorbent Fabric\n",
       "  \n",
       "  \n",
       "  \n",
       "  \n",
       "  \n",
       "  \n",
       "  </span>),\n",
       " ('B000QU95XW',),\n",
       " ('B000UE2YVE',),\n",
       " ('B0012344GK',\n",
       "  <span class=\"a-size-medium a-color-price priceBlockBuyingPriceString\" id=\"priceblock_ourprice\">£5.99</span>,\n",
       "  None,\n",
       "  <span class=\"a-size-large product-title-word-break\" id=\"productTitle\">\n",
       "  \n",
       "  \n",
       "  \n",
       "  \n",
       "  \n",
       "  \n",
       "  \n",
       "  Addis 90L Plastic Refuse Sacks Black, 20 Each\n",
       "  \n",
       "  \n",
       "  \n",
       "  \n",
       "  \n",
       "  \n",
       "  </span>)]"
      ]
     },
     "execution_count": 30,
     "metadata": {},
     "output_type": "execute_result"
    }
   ],
   "source": [
    "aaa"
   ]
  },
  {
   "cell_type": "code",
   "execution_count": 31,
   "metadata": {},
   "outputs": [
    {
     "ename": "NameError",
     "evalue": "name 'aaa2' is not defined",
     "output_type": "error",
     "traceback": [
      "\u001b[1;31m---------------------------------------------------------------------------\u001b[0m",
      "\u001b[1;31mNameError\u001b[0m                                 Traceback (most recent call last)",
      "\u001b[1;32m<ipython-input-31-a6491aff0c48>\u001b[0m in \u001b[0;36m<module>\u001b[1;34m()\u001b[0m\n\u001b[1;32m----> 1\u001b[1;33m \u001b[0maaa2\u001b[0m\u001b[1;33m\u001b[0m\u001b[0m\n\u001b[0m",
      "\u001b[1;31mNameError\u001b[0m: name 'aaa2' is not defined"
     ]
    }
   ],
   "source": [
    "aaa2"
   ]
  },
  {
   "cell_type": "code",
   "execution_count": null,
   "metadata": {},
   "outputs": [],
   "source": [
    "description = [nigga.text.strip() for nigga in aaa if nigga is not None]"
   ]
  },
  {
   "cell_type": "code",
   "execution_count": null,
   "metadata": {},
   "outputs": [],
   "source": [
    "description"
   ]
  },
  {
   "cell_type": "code",
   "execution_count": null,
   "metadata": {},
   "outputs": [],
   "source": [
    "len(description)"
   ]
  },
  {
   "cell_type": "code",
   "execution_count": null,
   "metadata": {},
   "outputs": [],
   "source": [
    "des = 'sdsads'\n",
    "price1 = ''\n",
    "price2 = None\n",
    "data = []\n",
    "data.append((des, price1, price2))"
   ]
  },
  {
   "cell_type": "code",
   "execution_count": null,
   "metadata": {},
   "outputs": [],
   "source": [
    "a = [1,2,3]"
   ]
  },
  {
   "cell_type": "code",
   "execution_count": 34,
   "metadata": {},
   "outputs": [],
   "source": [
    "a = ['abc', None, None]"
   ]
  },
  {
   "cell_type": "code",
   "execution_count": 35,
   "metadata": {},
   "outputs": [
    {
     "data": {
      "text/plain": [
       "['abc', None, None]"
      ]
     },
     "execution_count": 35,
     "metadata": {},
     "output_type": "execute_result"
    }
   ],
   "source": [
    "a"
   ]
  },
  {
   "cell_type": "code",
   "execution_count": null,
   "metadata": {},
   "outputs": [],
   "source": []
  }
 ],
 "metadata": {
  "kernelspec": {
   "display_name": "Python 3",
   "language": "python",
   "name": "python3"
  },
  "language_info": {
   "codemirror_mode": {
    "name": "ipython",
    "version": 3
   },
   "file_extension": ".py",
   "mimetype": "text/x-python",
   "name": "python",
   "nbconvert_exporter": "python",
   "pygments_lexer": "ipython3",
   "version": "3.7.0"
  }
 },
 "nbformat": 4,
 "nbformat_minor": 2
}
